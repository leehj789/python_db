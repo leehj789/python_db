{
 "cells": [
  {
   "cell_type": "code",
   "execution_count": 5,
   "id": "5cd1ed95",
   "metadata": {},
   "outputs": [],
   "source": [
    "from database import init_db, db_session\n",
    "from bankmodel import Customer\n",
    "from sqlalchemy import select\n",
    "\n",
    "\n",
    "init_db()"
   ]
  },
  {
   "cell_type": "code",
   "execution_count": 6,
   "id": "1e65bc9e",
   "metadata": {},
   "outputs": [
    {
     "data": {
      "text/plain": [
       "[<1c, 최원칠, 2, 500, silver>,\n",
       " <2c, 이서혁, 1, 2000, gold>,\n",
       " <3c, aiot, 3, 50000, vip>,\n",
       " <4c, 새싹, 4, 200000, vvip>]"
      ]
     },
     "execution_count": 6,
     "metadata": {},
     "output_type": "execute_result"
    }
   ],
   "source": [
    "customers = Customer.query.all()\n",
    "customers"
   ]
  },
  {
   "cell_type": "code",
   "execution_count": 7,
   "id": "1d644de0",
   "metadata": {},
   "outputs": [
    {
     "data": {
      "text/plain": [
       "<1c, 최원칠, 2, 500, silver>"
      ]
     },
     "execution_count": 7,
     "metadata": {},
     "output_type": "execute_result"
    }
   ],
   "source": [
    "c = db_session.get(Customer, '1c')\n",
    "c"
   ]
  },
  {
   "cell_type": "code",
   "execution_count": 4,
   "id": "6b90be91",
   "metadata": {},
   "outputs": [
    {
     "data": {
      "text/plain": [
       "<1c, 원칠2, 3, 125735, vvip>"
      ]
     },
     "execution_count": 4,
     "metadata": {},
     "output_type": "execute_result"
    }
   ],
   "source": [
    "Customer.query.filter(Customer.c_id =='1c')[0]"
   ]
  },
  {
   "cell_type": "code",
   "execution_count": 5,
   "id": "9d7e98a6",
   "metadata": {},
   "outputs": [
    {
     "name": "stdout",
     "output_type": "stream",
     "text": [
      "<1c, 원칠2, 3, 125735, vvip>\n",
      "<2c, 이서혁, 1, 2000, gold>\n",
      "<3c, aiot, 3, 50000, vip>\n",
      "<4c, 새싹, 4, 200000, vvip>\n"
     ]
    }
   ],
   "source": [
    "q = db_session.execute(select(Customer)).scalars()\n",
    "for c in q:\n",
    "    print(c)"
   ]
  },
  {
   "cell_type": "code",
   "execution_count": 6,
   "id": "81626f02",
   "metadata": {},
   "outputs": [
    {
     "name": "stdout",
     "output_type": "stream",
     "text": [
      "<2c, 이서혁, 1, 2000, gold>\n",
      "<3c, aiot, 3, 50000, vip>\n",
      "<1c, 원칠2, 3, 125735, vvip>\n",
      "<4c, 새싹, 4, 200000, vvip>\n"
     ]
    }
   ],
   "source": [
    "q = db_session.execute(select(Customer).order_by(Customer.rat)).scalars()\n",
    "for c in q:\n",
    "    print(c)"
   ]
  },
  {
   "cell_type": "code",
   "execution_count": 7,
   "id": "dba43e41",
   "metadata": {},
   "outputs": [
    {
     "name": "stdout",
     "output_type": "stream",
     "text": [
      "<3c, aiot, 3, 50000, vip>\n"
     ]
    }
   ],
   "source": [
    "q = db_session.execute(select(Customer).where(Customer.name =='aiot')).scalars()\n",
    "for c in q:\n",
    "    print(c)"
   ]
  },
  {
   "cell_type": "code",
   "execution_count": 8,
   "id": "1fdbeadf",
   "metadata": {},
   "outputs": [
    {
     "data": {
      "text/plain": [
       "[<1c, 원칠3, 3, 125735, vvip>,\n",
       " <2c, 이서혁, 1, 2000, gold>,\n",
       " <3c, aiot, 3, 50000, vip>,\n",
       " <4c, 새싹, 4, 200000, vvip>]"
      ]
     },
     "execution_count": 8,
     "metadata": {},
     "output_type": "execute_result"
    }
   ],
   "source": [
    "customers[0].name = '원칠3'\n",
    "db_session.commit()\n",
    "customers = Customer.query.all()\n",
    "customers"
   ]
  },
  {
   "cell_type": "code",
   "execution_count": 9,
   "id": "d0e5e55b",
   "metadata": {},
   "outputs": [
    {
     "data": {
      "text/plain": [
       "[<1c, 원칠4, 3, 125735, vvip>,\n",
       " <2c, 이서혁, 1, 2000, gold>,\n",
       " <3c, aiot, 3, 50000, vip>,\n",
       " <4c, 새싹, 4, 200000, vvip>]"
      ]
     },
     "execution_count": 9,
     "metadata": {},
     "output_type": "execute_result"
    }
   ],
   "source": [
    "customers[0].name = '원칠4'\n",
    "customers[0].verified = True\n",
    "db_session.commit()\n",
    "customers = Customer.query.all()\n",
    "customers"
   ]
  },
  {
   "cell_type": "code",
   "execution_count": 11,
   "id": "7dfbb783",
   "metadata": {},
   "outputs": [
    {
     "data": {
      "text/plain": [
       "[<1c, 원칠4, 3, 125735, vvip>,\n",
       " <2c, 이서혁, 1, 2000, gold>,\n",
       " <3c, aiot, 3, 50000, vip>,\n",
       " <4c, 새싹, 4, 200000, vvip>,\n",
       " <11c, 데이터베스, 0, 0, normal>,\n",
       " <12c, 데이터베스, 0, 0, normal>]"
      ]
     },
     "execution_count": 11,
     "metadata": {},
     "output_type": "execute_result"
    }
   ],
   "source": [
    "\n",
    "c = Customer(c_id = '12c', name = '데이터베스')\n",
    "db_session.add(c)\n",
    "db_session.commit()\n",
    "customers = Customer.query.all()\n",
    "customers"
   ]
  },
  {
   "cell_type": "code",
   "execution_count": null,
   "id": "113b300d",
   "metadata": {},
   "outputs": [],
   "source": [
    "from bankmodel import \n",
    "# accounts 테이블의 모든 계좌를 쿼리후 출력"
   ]
  },
  {
   "cell_type": "code",
   "execution_count": null,
   "id": "bd4a51b0",
   "metadata": {},
   "outputs": [],
   "source": [
    "# get함수를 활용해 a_id가 11a 인 계좌 출력"
   ]
  },
  {
   "cell_type": "code",
   "execution_count": null,
   "id": "27c1de00",
   "metadata": {},
   "outputs": [],
   "source": [
    "# 쿼리 filter 함수를 활용해 c_id가 3c인 계좌 출력"
   ]
  },
  {
   "cell_type": "code",
   "execution_count": null,
   "id": "665ec016",
   "metadata": {},
   "outputs": [],
   "source": [
    "# a_id가 45a이고 c_id가 4c인 계좌 생성후 DB에 추가"
   ]
  },
  {
   "cell_type": "code",
   "execution_count": null,
   "id": "45d4378f",
   "metadata": {},
   "outputs": [],
   "source": [
    "# a_id가 21a인 계좌를 가져온후 금액을 4000으로 바꾸고 DB업데이트"
   ]
  }
 ],
 "metadata": {
  "kernelspec": {
   "display_name": "Python 3 (ipykernel)",
   "language": "python",
   "name": "python3"
  },
  "language_info": {
   "codemirror_mode": {
    "name": "ipython",
    "version": 3
   },
   "file_extension": ".py",
   "mimetype": "text/x-python",
   "name": "python",
   "nbconvert_exporter": "python",
   "pygments_lexer": "ipython3",
   "version": "3.10.8"
  }
 },
 "nbformat": 4,
 "nbformat_minor": 5
}
